{
 "cells": [
  {
   "cell_type": "code",
   "execution_count": 2,
   "metadata": {},
   "outputs": [
    {
     "name": "stdout",
     "output_type": "stream",
     "text": [
      "INFO:tensorflow:Restoring parameters from b'1536315752/variables/variables'\n",
      "INFO:tensorflow:Restoring parameters from b'1536315752/variables/variables'\n",
      " prediction is  [[7.8471168e-04 9.7765231e-01 2.1562919e-02]]\n"
     ]
    }
   ],
   "source": [
    "import tensorflow as tf \n",
    "import os\n",
    "\n",
    "dir_path = os.path.dirname('.') #current directory\n",
    "exported_path= os.path.join(dir_path,  \"1536315752\")\n",
    "\n",
    "def main():\n",
    "    with tf.Session() as sess:\n",
    "        \n",
    "        tf.saved_model.loader.load(sess, [tf.saved_model.tag_constants.SERVING], exported_path)\n",
    "        \n",
    "        model_input= tf.train.Example(features=tf.train.Features(feature={\n",
    "                'x': tf.train.Feature(float_list=tf.train.FloatList(value=[6.4, 3.2, 4.5, 1.5]))        \n",
    "                })) \n",
    "        \n",
    "        predictor= tf.contrib.predictor.from_saved_model(exported_path)\n",
    "        \n",
    "        input_tensor=tf.get_default_graph().get_tensor_by_name(\"input_tensors:0\")\n",
    "        \n",
    "        model_input=model_input.SerializeToString()\n",
    "        \n",
    "        output_dict= predictor({\"inputs\":[model_input]})\n",
    "        \n",
    "        print(\" prediction is \" , output_dict['scores'])\n",
    "\n",
    "\n",
    "if __name__ == \"__main__\":\n",
    "    main()"
   ]
  },
  {
   "cell_type": "code",
   "execution_count": null,
   "metadata": {},
   "outputs": [],
   "source": []
  }
 ],
 "metadata": {
  "kernelspec": {
   "display_name": "Python 3",
   "language": "python",
   "name": "python3"
  },
  "language_info": {
   "codemirror_mode": {
    "name": "ipython",
    "version": 3
   },
   "file_extension": ".py",
   "mimetype": "text/x-python",
   "name": "python",
   "nbconvert_exporter": "python",
   "pygments_lexer": "ipython3",
   "version": "3.6.5"
  }
 },
 "nbformat": 4,
 "nbformat_minor": 2
}
